{
 "cells": [
  {
   "cell_type": "code",
   "execution_count": 1,
   "id": "c21a5bca",
   "metadata": {},
   "outputs": [
    {
     "name": "stdout",
     "output_type": "stream",
     "text": [
      "TorchScriptモデルを gtsrb_model.ts に保存しました。\n"
     ]
    }
   ],
   "source": [
    "# 1. 必要なライブラリをインポート\n",
    "import torch\n",
    "import torch.nn as nn\n",
    "\n",
    "# 2. モデルクラス（SimpleCNN）を再定義（学習時と全く同じ構造で！）\n",
    "class SimpleCNN(nn.Module):\n",
    "    def __init__(self):\n",
    "        super(SimpleCNN, self).__init__()\n",
    "        self.conv1 = nn.Conv2d(3, 16, kernel_size=3, padding=1)\n",
    "        self.pool = nn.MaxPool2d(2, 2)\n",
    "        self.conv2 = nn.Conv2d(16, 32, kernel_size=3, padding=1)\n",
    "        self.fc1 = nn.Linear(32 * 8 * 8, 128)\n",
    "        self.fc2 = nn.Linear(128, 43)\n",
    "\n",
    "    def forward(self, x):\n",
    "        x = self.pool(torch.relu(self.conv1(x)))\n",
    "        x = self.pool(torch.relu(self.conv2(x)))\n",
    "        x = x.view(-1, 32 * 8 * 8)\n",
    "        x = torch.relu(self.fc1(x))\n",
    "        x = self.fc2(x)\n",
    "        return x\n",
    "\n",
    "# 3. モデルインスタンスを作成し、重みを読み込む\n",
    "model = SimpleCNN()\n",
    "model.load_state_dict(torch.load(\"gtsrb_model.pt\"))\n",
    "model.eval()  # 推論モードに切り替え（重要！）\n",
    "\n",
    "# 4. ダミー入力を作成（バッチサイズ=1, RGB, 32×32）\n",
    "example_input = torch.randn(1, 3, 32, 32)\n",
    "\n",
    "# 5. TorchScriptに変換（トレースベース）\n",
    "traced_model = torch.jit.trace(model, example_input)\n",
    "\n",
    "# 6. TorchScriptモデルを保存\n",
    "traced_model.save(\"gtsrb_model.ts\")\n",
    "print(\"TorchScriptモデルを gtsrb_model.ts に保存しました。\")\n"
   ]
  }
 ],
 "metadata": {
  "kernelspec": {
   "display_name": "Python (GTSRB)",
   "language": "python",
   "name": "gtsrb-env"
  },
  "language_info": {
   "codemirror_mode": {
    "name": "ipython",
    "version": 3
   },
   "file_extension": ".py",
   "mimetype": "text/x-python",
   "name": "python",
   "nbconvert_exporter": "python",
   "pygments_lexer": "ipython3",
   "version": "3.12.3"
  }
 },
 "nbformat": 4,
 "nbformat_minor": 5
}
